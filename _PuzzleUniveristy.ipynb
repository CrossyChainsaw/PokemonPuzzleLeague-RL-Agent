{
 "cells": [
  {
   "cell_type": "code",
   "execution_count": 1,
   "metadata": {},
   "outputs": [
    {
     "name": "stdout",
     "output_type": "stream",
     "text": [
      "0.29.1\n",
      "3.9.2\n",
      "2.4.1+cpu\n",
      "0.19.1+cpu\n",
      "2.4.1+cpu\n",
      "0.9.54\n",
      "1.26.4\n"
     ]
    }
   ],
   "source": [
    "import gymnasium as gym\n",
    "import matplotlib\n",
    "import torch\n",
    "import torchvision\n",
    "import torchaudio\n",
    "import pyautogui\n",
    "import numpy as np\n",
    "\n",
    "print(gym.__version__)          # 0.29.1\n",
    "print(matplotlib.__version__)   # 3.9.2\n",
    "print(torch.__version__)        # 2.4.1+cpu\n",
    "print(torchvision.__version__)  # 0.19.1+cpu\n",
    "print(torchaudio.__version__)   # 2.4.1+cpu\n",
    "print(pyautogui.__version__)    # 0.9.54\n",
    "print(np.__version__)           # 1.26.4"
   ]
  },
  {
   "cell_type": "code",
   "execution_count": 2,
   "metadata": {},
   "outputs": [
    {
     "name": "stdout",
     "output_type": "stream",
     "text": [
      "Failed to read memory. Error code: 299\n"
     ]
    },
    {
     "ename": "TypeError",
     "evalue": "'NoneType' object cannot be interpreted as an integer",
     "output_type": "error",
     "traceback": [
      "\u001b[1;31m---------------------------------------------------------------------------\u001b[0m",
      "\u001b[1;31mTypeError\u001b[0m                                 Traceback (most recent call last)",
      "Cell \u001b[1;32mIn[2], line 9\u001b[0m\n\u001b[0;32m      6\u001b[0m P1_CELL_BBOX_PJ64 \u001b[38;5;241m=\u001b[39m (\u001b[38;5;241m348\u001b[39m, \u001b[38;5;241m130\u001b[39m, \u001b[38;5;241m830\u001b[39m, \u001b[38;5;241m1004\u001b[39m)\n\u001b[0;32m      7\u001b[0m P1_CELL_BBOX_DOLPHIN \u001b[38;5;241m=\u001b[39m (\u001b[38;5;241m390\u001b[39m, \u001b[38;5;241m160\u001b[39m, \u001b[38;5;241m845\u001b[39m, \u001b[38;5;241m960\u001b[39m)\n\u001b[1;32m----> 9\u001b[0m env \u001b[38;5;241m=\u001b[39m \u001b[43mPPLEnv\u001b[49m\u001b[43m(\u001b[49m\u001b[43mstate_bbox\u001b[49m\u001b[38;5;241;43m=\u001b[39;49m\u001b[43mP1_CELL_BBOX_DOLPHIN\u001b[49m\u001b[43m,\u001b[49m\u001b[43m \u001b[49m\u001b[43mcolor_mode\u001b[49m\u001b[38;5;241;43m=\u001b[39;49m\u001b[38;5;124;43m'\u001b[39;49m\u001b[38;5;124;43mcolor\u001b[39;49m\u001b[38;5;124;43m'\u001b[39;49m\u001b[43m,\u001b[49m\u001b[43m \u001b[49m\u001b[43mload_state_key\u001b[49m\u001b[38;5;241;43m=\u001b[39;49m\u001b[38;5;124;43m'\u001b[39;49m\u001b[38;5;124;43mf7\u001b[39;49m\u001b[38;5;124;43m'\u001b[39;49m\u001b[43m)\u001b[49m\n\u001b[0;32m     10\u001b[0m deep_q_learning_model \u001b[38;5;241m=\u001b[39m MinimalDQNCNN(action_size\u001b[38;5;241m=\u001b[39menv\u001b[38;5;241m.\u001b[39maction_space\u001b[38;5;241m.\u001b[39mn)\n\u001b[0;32m     11\u001b[0m agent \u001b[38;5;241m=\u001b[39m DQNAgent(deep_q_learning_model, action_size\u001b[38;5;241m=\u001b[39menv\u001b[38;5;241m.\u001b[39maction_space\u001b[38;5;241m.\u001b[39mn)\n",
      "File \u001b[1;32mc:\\Users\\Kaan\\source\\repos\\py\\Cool AI Phase\\Reinforcement Learning\\Pokemon Puzzle League\\PPLEnv.py:84\u001b[0m, in \u001b[0;36mPPLEnv.__init__\u001b[1;34m(self, state_bbox, color_mode, stack_size, cursor_logging, screenshot_saving, load_state_key)\u001b[0m\n\u001b[0;32m     82\u001b[0m first_pointer \u001b[38;5;241m=\u001b[39m base_address_score \u001b[38;5;241m+\u001b[39m base_offset_score\n\u001b[0;32m     83\u001b[0m dereferenced_address  \u001b[38;5;241m=\u001b[39m read_memory(\u001b[38;5;28mself\u001b[39m\u001b[38;5;241m.\u001b[39mprocess_handle, first_pointer, data_type\u001b[38;5;241m=\u001b[39mctypes\u001b[38;5;241m.\u001b[39mc_uint64)\n\u001b[1;32m---> 84\u001b[0m dereferenced_address_hex \u001b[38;5;241m=\u001b[39m (\u001b[38;5;28;43mhex\u001b[39;49m\u001b[43m(\u001b[49m\u001b[43mdereferenced_address\u001b[49m\u001b[43m)\u001b[49m)\n\u001b[0;32m     86\u001b[0m \u001b[38;5;28;01mfor\u001b[39;00m offset \u001b[38;5;129;01min\u001b[39;00m offsets_score:\n\u001b[0;32m     87\u001b[0m     pointer \u001b[38;5;241m=\u001b[39m dereferenced_address \u001b[38;5;241m+\u001b[39m offset\n",
      "\u001b[1;31mTypeError\u001b[0m: 'NoneType' object cannot be interpreted as an integer"
     ]
    }
   ],
   "source": [
    "from PoolingCNN import PoolingCNN\n",
    "from DQNAgent import DQNAgent\n",
    "from PPLEnv import PPLEnv\n",
    "\n",
    "# States\n",
    "P1_CELL_BBOX_PJ64 = (348, 130, 830, 1004)\n",
    "P1_CELL_BBOX_DOLPHIN = (390, 160, 845, 960)\n",
    "\n",
    "env = PPLEnv(base_address=, state_bbox=P1_CELL_BBOX_DOLPHIN, color_mode='grey', load_state_key='f7')\n",
    "deep_q_learning_model = PoolingCNN(action_size=env.action_space.n)\n",
    "agent = DQNAgent(deep_q_learning_model, action_size=env.action_space.n)\n",
    "env.action_space.n"
   ]
  },
  {
   "cell_type": "code",
   "execution_count": null,
   "metadata": {},
   "outputs": [],
   "source": []
  }
 ],
 "metadata": {
  "kernelspec": {
   "display_name": "Python 3",
   "language": "python",
   "name": "python3"
  },
  "language_info": {
   "codemirror_mode": {
    "name": "ipython",
    "version": 3
   },
   "file_extension": ".py",
   "mimetype": "text/x-python",
   "name": "python",
   "nbconvert_exporter": "python",
   "pygments_lexer": "ipython3",
   "version": "3.12.8"
  }
 },
 "nbformat": 4,
 "nbformat_minor": 2
}
